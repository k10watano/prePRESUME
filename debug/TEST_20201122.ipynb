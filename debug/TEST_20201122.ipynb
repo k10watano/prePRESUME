{
 "metadata": {
  "language_info": {
   "codemirror_mode": {
    "name": "ipython",
    "version": 3
   },
   "file_extension": ".py",
   "mimetype": "text/x-python",
   "name": "python",
   "nbconvert_exporter": "python",
   "pygments_lexer": "ipython3",
   "version": "3.7.3-final"
  },
  "orig_nbformat": 2,
  "kernelspec": {
   "name": "python3",
   "display_name": "Python 3",
   "language": "python"
  }
 },
 "nbformat": 4,
 "nbformat_minor": 2,
 "cells": [
  {
   "cell_type": "code",
   "execution_count": null,
   "metadata": {},
   "outputs": [],
   "source": [
    "testfolder = \"\" # <- specify a filepath for testing PRESUME\n",
    "PRESUME = \"/Users/iwatano/Desktop/Dev/yachielab/PRESUME/PRESUME.py\" # <- specify a filepath of PRESUME.py "
   ]
  },
  {
   "cell_type": "code",
   "execution_count": 12,
   "metadata": {},
   "outputs": [
    {
     "output_type": "stream",
     "name": "stdout",
     "text": [
      "usage: PRESUME.py [-h] [--param PARAM] [-V] [--monitor MONITOR] [-n N]\n                  [--tree TREE] [-L L] [-f F] [--polyC] [-d D] [-s S] [-T T]\n                  [-e E] [--gtrgamma GTRGAMMA] [-u U] [--ud UD] [--ld LD]\n                  [-m M] [--constant CONSTANT] [--output OUTPUT] [--qsub]\n                  [--idANC IDANC] [--tMorigin TMORIGIN] [--debug] [--bar]\n                  [--viewANC] [--save] [--CV] [-r R] [--seed SEED]\n                  [--inprob INPROB] [--inlength INLENGTH] [--delprob DELPROB]\n                  [--dellength DELLENGTH] [--indels INDELS] [--chunks CHUNKS]\n                  [--dop DOP] [--dist DIST] [--editprofile EDITPROFILE]\n\nPRESUME.py\n\noptional arguments:\n  -h, --help            show this help message and exit\n  --param PARAM         load argument file(csv file)\n  -V, --version\n  --monitor MONITOR     time limit (default=None)\n  -n N                  required number of sequences: if you specified this\n                        parameter, timelimit will be postponed until the\n                        number of the sequence reach the specified number\n                        (default=None)\n  --tree TREE           file name of a guide tree in Newick format(for debug,\n                        unsupported.)\n  -L L                  length of sequence (default=1000)\n  -f F                  fasta file name　of the common ancestor sequence.\n                        (default: poly-C)\n  --polyC               use polyC sequence as root\n  -d D                  doubling time of origin sequence (default=1)\n  -s S                  sigma of doubling time of origin sequence (default=0)\n  -T T                  Threashold of doubling time to be deleted (default =\n                        1000)\n  -e E                  random deletion probability (default=0)\n  --gtrgamma GTRGAMMA   parameters for substitution rate matrix\n                        GTR{A-C/A-G/A-T/C-G/C-T/G-T} +FU{piA/piC/piG/piT}\n                        +G4{shape of gamma distribution} Or, you can use\n                        default parameters by \"--gtrgamma default\" default:\n                        GTR{0.3333/0.3333/0.3333/0.3333/0.3333/0.3333}\n                        +FU{0.25/0.25/0.25/0.25} +G4{10000}\n  -u U                  upper limit of number of sequences (default=2^20)\n  --ud UD               upper limit of doubling time (default=10^10)\n  --ld LD               lower limit of doubling time (default=10^(-5))\n  -m M                  mean of relative subtitution rate according to gamma\n                        distribution (default=1)\n  --constant CONSTANT   fixed mutation rate of each site (default=None)\n  --output OUTPUT       output folder (default:current directory)\n  --qsub                activate preparation for distributed processes\n                        (defalt=inactivated)\n  --idANC IDANC         corresponging ancestral sequence (in upstream tree),\n                        in case of distributed computing (default=None)\n  --tMorigin TMORIGIN   birth time of origin sequence\n  --debug               inactivate deletion of intermediate files\n  --bar                 deactivate unstable functions\n  --viewANC             generate fasta of ancestoral sequences\n  --save                generate args.csv\n  --CV                  sigma use as CV(Coefficient Variance) of Normal\n                        Distribution\n  -r R                  limit of retrying simulation (default=100000)\n  --seed SEED           random seed used to initialize the pseudo-random\n                        number generator\n  --inprob INPROB       file name of insertion probability for each position\n  --inlength INLENGTH   file name of insertion length distribution\n  --delprob DELPROB     file name of deletion probability for each position\n  --dellength DELLENGTH\n                        file name of insertion length distribution\n  --indels INDELS       file name of indels accumulated before simualtion (for\n                        distributed computing mode)\n  --chunks CHUNKS       number of chunks for each sequence unit\n  --dop DOP             Option of qsub for downstream simulation (for\n                        distributed computing mode)\n  --dist DIST           Distribution of d or 1/d (permissive values: 'norm',\n                        'lognorm', 'gamma', 'gamma2') (default: 'gamma2)\n  --editprofile EDITPROFILE\n                        file name of a base editing profile(for debug,\n                        unsupported.)\n"
     ]
    }
   ],
   "source": [
    "!python3 $PRESUME -h"
   ]
  },
  {
   "cell_type": "code",
   "execution_count": 17,
   "metadata": {},
   "outputs": [
    {
     "output_type": "stream",
     "name": "stdout",
     "text": [
      "\n",
      "######     ######     #######     #####     #     #    #     #    #######\n",
      "#     #    #     #    #          #     #    #     #    ##   ##    #\n",
      "#     #    #     #    #          #          #     #    # # # #    #\n",
      "######     ######     #####       #####     #     #    #  #  #    #####\n",
      "#          #   #      #                #    #     #    #     #    #\n",
      "#          #    #     #          #     #    #     #    #     #    #\n",
      "#          #     #    #######     #####      #####     #     #    #######\n",
      "Version:     1.0.0\n",
      "Last update: April 24, 2020\n",
      "GitHub:      https://github.com/yachielab/PRESUME\n",
      "\n",
      "Generating a FASTA file...\n",
      "Generating a Newick file......\n",
      "\n",
      "=====================================================\n",
      "Simulation end time point:         11.0\n",
      "Number of generated sequences:     1024\n",
      "Seed for random number generation: 0\n",
      "=====================================================\n",
      "\n"
     ]
    }
   ],
   "source": [
    "out = \"{}/test_1\".format(testfolder)\n",
    "!python3 $PRESUME --seed 0 -L 1000 -n 1000 --constant 0.1 --output $out"
   ]
  },
  {
   "cell_type": "code",
   "execution_count": 18,
   "metadata": {},
   "outputs": [
    {
     "output_type": "stream",
     "name": "stdout",
     "text": [
      "Substitution rate matrix:\n",
      "[[-0.0249975  0.0083325  0.0083325  0.0083325]\n",
      " [ 0.0083325 -0.0249975  0.0083325  0.0083325]\n",
      " [ 0.0083325  0.0083325 -0.0249975  0.0083325]\n",
      " [ 0.0083325  0.0083325  0.0083325 -0.0249975]]\n",
      "\n",
      "######     ######     #######     #####     #     #    #     #    #######\n",
      "#     #    #     #    #          #     #    #     #    ##   ##    #\n",
      "#     #    #     #    #          #          #     #    # # # #    #\n",
      "######     ######     #####       #####     #     #    #  #  #    #####\n",
      "#          #   #      #                #    #     #    #     #    #\n",
      "#          #    #     #          #     #    #     #    #     #    #\n",
      "#          #     #    #######     #####      #####     #     #    #######\n",
      "Version:     1.0.0\n",
      "Last update: April 24, 2020\n",
      "GitHub:      https://github.com/yachielab/PRESUME\n",
      "\n",
      "Generating a FASTA file...\n",
      "Generating a Newick file......\n",
      "\n",
      "=====================================================\n",
      "Simulation end time point:         12.0\n",
      "Number of generated sequences:     1910\n",
      "Seed for random number generation: 0\n",
      "=====================================================\n",
      "\n"
     ]
    }
   ],
   "source": [
    "out = \"{}/test_2\".format(testfolder)\n",
    "!python3 $PRESUME --seed 0 -L 1000 -n 1000 -e 0.01 --gtrgamma default --output $out"
   ]
  },
  {
   "cell_type": "code",
   "execution_count": 19,
   "metadata": {},
   "outputs": [
    {
     "output_type": "stream",
     "name": "stdout",
     "text": [
      "Substitution rate matrix:\n",
      "[[-0.0249975  0.0083325  0.0083325  0.0083325]\n",
      " [ 0.0083325 -0.0249975  0.0083325  0.0083325]\n",
      " [ 0.0083325  0.0083325 -0.0249975  0.0083325]\n",
      " [ 0.0083325  0.0083325  0.0083325 -0.0249975]]\n",
      "\n",
      "######     ######     #######     #####     #     #    #     #    #######\n",
      "#     #    #     #    #          #     #    #     #    ##   ##    #\n",
      "#     #    #     #    #          #          #     #    # # # #    #\n",
      "######     ######     #####       #####     #     #    #  #  #    #####\n",
      "#          #   #      #                #    #     #    #     #    #\n",
      "#          #    #     #          #     #    #     #    #     #    #\n",
      "#          #     #    #######     #####      #####     #     #    #######\n",
      "Version:     1.0.0\n",
      "Last update: April 24, 2020\n",
      "GitHub:      https://github.com/yachielab/PRESUME\n",
      "\n",
      "Generating a FASTA file...\n",
      "Generating a Newick file......\n",
      "\n",
      "=====================================================\n",
      "Simulation end time point:         11.060170321065144\n",
      "Number of generated sequences:     1024\n",
      "Seed for random number generation: 0\n",
      "=====================================================\n",
      "\n"
     ]
    }
   ],
   "source": [
    "out = \"{}/test_3\".format(testfolder)\n",
    "!python3 $PRESUME --seed 0 -L 1000 -n 1000 -s 0.1 --CV --gtrgamma default --output $out"
   ]
  },
  {
   "cell_type": "code",
   "execution_count": 3,
   "metadata": {},
   "outputs": [
    {
     "output_type": "stream",
     "name": "stdout",
     "text": [
      "Substitution rate matrix:\n",
      "[[-0.0249975  0.0083325  0.0083325  0.0083325]\n",
      " [ 0.0083325 -0.0249975  0.0083325  0.0083325]\n",
      " [ 0.0083325  0.0083325 -0.0249975  0.0083325]\n",
      " [ 0.0083325  0.0083325  0.0083325 -0.0249975]]\n",
      "\n",
      "######     ######     #######     #####     #     #    #     #    #######\n",
      "#     #    #     #    #          #     #    #     #    ##   ##    #\n",
      "#     #    #     #    #          #          #     #    # # # #    #\n",
      "######     ######     #####       #####     #     #    #  #  #    #####\n",
      "#          #   #      #                #    #     #    #     #    #\n",
      "#          #    #     #          #     #    #     #    #     #    #\n",
      "#          #     #    #######     #####      #####     #     #    #######\n",
      "Version:     1.0.0\n",
      "Last update: April 24, 2020\n",
      "GitHub:      https://github.com/yachielab/PRESUME\n",
      "\n",
      "Generating a FASTA file...\n",
      "Generating a Newick file......\n",
      "\n",
      "=====================================================\n",
      "Simulation end time point:         8.0\n",
      "Number of generated sequences:     128\n",
      "Seed for random number generation: 0\n",
      "=====================================================\n",
      "\n"
     ]
    }
   ],
   "source": [
    "out = \"{}/test_4\".format(testfolder)\n",
    "inprob = \"/Users/iwatano/Desktop/tmp_PRESUME/20201122_debug/test_4/prob.txt\"\n",
    "length = \"/Users/iwatano/Desktop/tmp_PRESUME/20201122_debug/test_4/length.txt\"\n",
    "!python3 $PRESUME -n 100 --seed 0 --output $out --inprob $inprob --inlength $length  --delprob $inprob --dellength $length --gtrgamma default\n"
   ]
  },
  {
   "cell_type": "code",
   "execution_count": 1,
   "metadata": {},
   "outputs": [
    {
     "output_type": "stream",
     "name": "stdout",
     "text": [
      "\n",
      "######     ######     #######     #####     #     #    #     #    #######\n",
      "#     #    #     #    #          #     #    #     #    ##   ##    #\n",
      "#     #    #     #    #          #          #     #    # # # #    #\n",
      "######     ######     #####       #####     #     #    #  #  #    #####\n",
      "#          #   #      #                #    #     #    #     #    #\n",
      "#          #    #     #          #     #    #     #    #     #    #\n",
      "#          #     #    #######     #####      #####     #     #    #######\n",
      "Version:     1.0.0\n",
      "Last update: April 24, 2020\n",
      "GitHub:      https://github.com/yachielab/PRESUME\n",
      "\n",
      "Generating a FASTA file...\n",
      "Generating a Newick file......\n",
      "\n",
      "=====================================================\n",
      "Simulation end time point:         8.0\n",
      "Number of generated sequences:     128\n",
      "Seed for random number generation: 0\n",
      "=====================================================\n",
      "\n"
     ]
    }
   ],
   "source": [
    "out = \"{}/test_5\".format(testfolder)\n",
    "test_input = \"/Users/iwatano/Desktop/tmp_PRESUME/20201122_debug/test_5/test_input.csv\"\n",
    "!python3 $PRESUME -n 100 --seed 0 --output $out --editprofile $test_input"
   ]
  }
 ]
}