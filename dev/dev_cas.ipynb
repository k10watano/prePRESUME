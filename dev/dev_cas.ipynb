{
 "cells": [
  {
   "cell_type": "code",
   "execution_count": 1,
   "metadata": {},
   "outputs": [
    {
     "output_type": "error",
     "ename": "NameError",
     "evalue": "name 'subprocess' is not defined",
     "traceback": [
      "\u001b[0;31m---------------------------------------------------------------------------\u001b[0m",
      "\u001b[0;31mNameError\u001b[0m                                 Traceback (most recent call last)",
      "\u001b[0;32m<ipython-input-1-53c25f20a37b>\u001b[0m in \u001b[0;36m<module>\u001b[0;34m\u001b[0m\n\u001b[1;32m     15\u001b[0m     \u001b[0mprint\u001b[0m\u001b[0;34m(\u001b[0m\u001b[0mkwargs\u001b[0m\u001b[0;34m[\u001b[0m\u001b[0;34m\"-L\"\u001b[0m\u001b[0;34m]\u001b[0m\u001b[0;34m)\u001b[0m\u001b[0;34m\u001b[0m\u001b[0;34m\u001b[0m\u001b[0m\n\u001b[1;32m     16\u001b[0m \u001b[0;34m\u001b[0m\u001b[0m\n\u001b[0;32m---> 17\u001b[0;31m \u001b[0mjobscript_writer\u001b[0m\u001b[0;34m(\u001b[0m\u001b[0;36m1\u001b[0m\u001b[0;34m,\u001b[0m \u001b[0;34m{\u001b[0m\u001b[0;34m\"-L\"\u001b[0m\u001b[0;34m:\u001b[0m\u001b[0;36m100\u001b[0m\u001b[0;34m}\u001b[0m\u001b[0;34m)\u001b[0m\u001b[0;34m\u001b[0m\u001b[0;34m\u001b[0m\u001b[0m\n\u001b[0m",
      "\u001b[0;32m<ipython-input-1-53c25f20a37b>\u001b[0m in \u001b[0;36mjobscript_writer\u001b[0;34m(serial_number, *kwargs)\u001b[0m\n\u001b[1;32m      1\u001b[0m \u001b[0;32mdef\u001b[0m \u001b[0mjobscript_writer\u001b[0m\u001b[0;34m(\u001b[0m\u001b[0mserial_number\u001b[0m\u001b[0;34m,\u001b[0m \u001b[0;34m*\u001b[0m\u001b[0mkwargs\u001b[0m\u001b[0;34m)\u001b[0m\u001b[0;34m:\u001b[0m\u001b[0;34m\u001b[0m\u001b[0;34m\u001b[0m\u001b[0m\n\u001b[1;32m      2\u001b[0m     PATH = (((\n\u001b[0;32m----> 3\u001b[0;31m         subprocess.Popen('echo $PATH', stdout=subprocess.PIPE,\n\u001b[0m\u001b[1;32m      4\u001b[0m                             shell=True)\n\u001b[1;32m      5\u001b[0m         .communicate()[0])\n",
      "\u001b[0;31mNameError\u001b[0m: name 'subprocess' is not defined"
     ]
    }
   ],
   "source": [
    "import subprocess\n",
    "\n",
    "def jobscript_writer(serial_number, *kwargs):\n",
    "    PATH = (((\n",
    "        subprocess.Popen('echo $PATH', stdout=subprocess.PIPE,\n",
    "                            shell=True)\n",
    "        .communicate()[0])\n",
    "        .decode('utf-8'))\n",
    "        .split('\\n'))[0]\n",
    "\n",
    "    LD_LIBRARY_PATH = (((\n",
    "        subprocess.Popen('echo $LD_LIBRARY_PATH', stdout=subprocess.PIPE,\n",
    "                        shell=True)\n",
    "        .communicate()[0])\n",
    "        .decode('utf-8'))\n",
    "        .split('\\n'))[0]\n",
    "    print(kwargs[\"-L\"])\n",
    "\n",
    "jobscript_writer(1, {\"-L\":100})"
   ]
  },
  {
   "cell_type": "code",
   "execution_count": null,
   "metadata": {},
   "outputs": [],
   "source": []
  }
 ],
 "metadata": {
  "language_info": {
   "codemirror_mode": {
    "name": "ipython",
    "version": 3
   },
   "file_extension": ".py",
   "mimetype": "text/x-python",
   "name": "python",
   "nbconvert_exporter": "python",
   "pygments_lexer": "ipython3",
   "version": "3.7.3-final"
  },
  "orig_nbformat": 2,
  "kernelspec": {
   "name": "python3",
   "display_name": "Python 3"
  }
 },
 "nbformat": 4,
 "nbformat_minor": 2
}